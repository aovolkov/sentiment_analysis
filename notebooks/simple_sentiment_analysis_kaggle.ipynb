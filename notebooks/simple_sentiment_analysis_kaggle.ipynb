{
 "cells": [
  {
   "cell_type": "markdown",
   "metadata": {},
   "source": [
    "## Baseline для задачи Sentiment analysis"
   ]
  },
  {
   "cell_type": "markdown",
   "metadata": {},
   "source": [
    "Данный ноутбук может служить baselin-ом в соревновании https://www.kaggle.com/c/simplesentiment, также его можно использовать как базу для решения задачи анализа тональности текстов. \n",
    "\n",
    "В соревновании стоит задача прогнозирования по тексту отзыва его тональности: 1 - позитивная, 0 - негативная. "
   ]
  },
  {
   "cell_type": "code",
   "execution_count": 1,
   "metadata": {
    "_cell_guid": "b1076dfc-b9ad-4769-8c92-a6c4dae69d19",
    "_uuid": "8f2839f25d086af736a60e9eeb907d3b93b6e0e5"
   },
   "outputs": [],
   "source": [
    "import os\n",
    "for dirname, _, filenames in os.walk('/kaggle/input'):\n",
    "    for filename in filenames:\n",
    "        print(os.path.join(dirname, filename))"
   ]
  },
  {
   "cell_type": "markdown",
   "metadata": {},
   "source": [
    "### 1. Загрузка данных "
   ]
  },
  {
   "cell_type": "code",
   "execution_count": 24,
   "metadata": {
    "_cell_guid": "79c7e3d0-c299-4dcb-8224-4455121ee9b0",
    "_uuid": "d629ff2d2480ee46fbb7e2d37f6b5fab8052498a"
   },
   "outputs": [],
   "source": [
    "# Импортируем нужные билиотеки\n",
    "\n",
    "import numpy as np\n",
    "import pandas as pd\n",
    "import warnings\n",
    "import random\n",
    "import matplotlib.pyplot as plt\n",
    "\n",
    "from nltk.corpus import stopwords\n",
    "from sklearn.utils import shuffle\n",
    "from sklearn.feature_extraction.text import TfidfTransformer, CountVectorizer, TfidfVectorizer\n",
    "from sklearn.svm import LinearSVC\n",
    "from sklearn.linear_model import LogisticRegression, SGDClassifier\n",
    "from sklearn.model_selection import cross_val_score, GridSearchCV, train_test_split\n",
    "from sklearn.decomposition import PCA\n",
    "from sklearn.naive_bayes import MultinomialNB\n",
    "from sklearn.ensemble import RandomForestClassifier, GradientBoostingClassifier\n",
    "from sklearn.decomposition import TruncatedSVD\n",
    "from sklearn.pipeline import Pipeline\n",
    "import seaborn as sns\n",
    "\n",
    "warnings.filterwarnings('ignore')\n",
    "%matplotlib inline\n",
    "sns.set_style('whitegrid')\n",
    "sns.set_palette('Set3')\n",
    "random.seed(42)"
   ]
  },
  {
   "cell_type": "code",
   "execution_count": 3,
   "metadata": {},
   "outputs": [
    {
     "data": {
      "text/html": [
       "<div>\n",
       "<style scoped>\n",
       "    .dataframe tbody tr th:only-of-type {\n",
       "        vertical-align: middle;\n",
       "    }\n",
       "\n",
       "    .dataframe tbody tr th {\n",
       "        vertical-align: top;\n",
       "    }\n",
       "\n",
       "    .dataframe thead th {\n",
       "        text-align: right;\n",
       "    }\n",
       "</style>\n",
       "<table border=\"1\" class=\"dataframe\">\n",
       "  <thead>\n",
       "    <tr style=\"text-align: right;\">\n",
       "      <th></th>\n",
       "      <th>text</th>\n",
       "      <th>label</th>\n",
       "    </tr>\n",
       "  </thead>\n",
       "  <tbody>\n",
       "    <tr>\n",
       "      <th>0</th>\n",
       "      <td>i downloaded a trial version of computer assoc...</td>\n",
       "      <td>1</td>\n",
       "    </tr>\n",
       "    <tr>\n",
       "      <th>1</th>\n",
       "      <td>the wrt54g plus the hga7t is a perfect solutio...</td>\n",
       "      <td>1</td>\n",
       "    </tr>\n",
       "    <tr>\n",
       "      <th>2</th>\n",
       "      <td>i dont especially like how music files are uns...</td>\n",
       "      <td>0</td>\n",
       "    </tr>\n",
       "    <tr>\n",
       "      <th>3</th>\n",
       "      <td>i was using the cheapie pail ... and it worked...</td>\n",
       "      <td>1</td>\n",
       "    </tr>\n",
       "    <tr>\n",
       "      <th>4</th>\n",
       "      <td>you can manage your profile , change the contr...</td>\n",
       "      <td>1</td>\n",
       "    </tr>\n",
       "  </tbody>\n",
       "</table>\n",
       "</div>"
      ],
      "text/plain": [
       "                                                text  label\n",
       "0  i downloaded a trial version of computer assoc...      1\n",
       "1  the wrt54g plus the hga7t is a perfect solutio...      1\n",
       "2  i dont especially like how music files are uns...      0\n",
       "3  i was using the cheapie pail ... and it worked...      1\n",
       "4  you can manage your profile , change the contr...      1"
      ]
     },
     "execution_count": 3,
     "metadata": {},
     "output_type": "execute_result"
    }
   ],
   "source": [
    "# Считываем данные\n",
    "\n",
    "train = pd.read_csv('simplesentiment/products_sentiment_train.tsv', names=['text', 'label'], header=0, sep='\\t')\n",
    "test = pd.read_csv('simplesentiment/products_sentiment_test.tsv', sep='\\t')\n",
    "\n",
    "X_train = train['text']\n",
    "y_train = train['label']\n",
    "X_test = test['text']\n",
    "train.head()"
   ]
  },
  {
   "cell_type": "markdown",
   "metadata": {},
   "source": [
    "### 2. Первичный анализ данных"
   ]
  },
  {
   "cell_type": "code",
   "execution_count": 4,
   "metadata": {},
   "outputs": [
    {
     "name": "stdout",
     "output_type": "stream",
     "text": [
      "Количество отзывов в train части: 1999\n",
      "Количество отзывов в test части: 500\n"
     ]
    }
   ],
   "source": [
    "print('Количество отзывов в train части:', X_train.shape[0])\n",
    "print('Количество отзывов в test части:', X_test.shape[0])"
   ]
  },
  {
   "cell_type": "markdown",
   "metadata": {},
   "source": [
    "Проверим есть ли у нас расбалансировка классов в обучающей выборке."
   ]
  },
  {
   "cell_type": "code",
   "execution_count": 5,
   "metadata": {},
   "outputs": [
    {
     "name": "stdout",
     "output_type": "stream",
     "text": [
      "% позитивных отзывов: 0.6368\n",
      "% негативных отзывов: 0.3632\n",
      "Количество позитивных отзывов: 1273\n",
      "Количество негативных отзывов: 726\n"
     ]
    },
    {
     "data": {
      "image/png": "[encoded data removed]",
      "text/plain": [
       "<Figure size 720x576 with 1 Axes>"
      ]
     },
     "metadata": {
      "needs_background": "light"
     },
     "output_type": "display_data"
    }
   ],
   "source": [
    "percent_of_pos_review = y_train.value_counts()[1] / y_train.shape[0]\n",
    "percent_of_neg_review = y_train.value_counts()[0] / y_train.shape[0]\n",
    "\n",
    "\n",
    "fig = plt.figure(figsize=(10, 8))\n",
    "y_train.value_counts(normalize=True).plot(kind='bar')\n",
    "plt.title('Распределение целевой переменной')\n",
    "plt.xlabel('Тональность отзывов')\n",
    "plt.ylabel('% классов отзывов')\n",
    "\n",
    "print('% позитивных отзывов:', round(percent_of_pos_review, 4))\n",
    "print('% негативных отзывов:', round(percent_of_neg_review, 4))\n",
    "print('Количество позитивных отзывов:', y_train.value_counts()[1])\n",
    "print('Количество негативных отзывов:', y_train.value_counts()[0])"
   ]
  },
  {
   "cell_type": "markdown",
   "metadata": {},
   "source": [
    "Видно, что есть, поэтому это необходимо учитывать в будущем."
   ]
  },
  {
   "cell_type": "code",
   "execution_count": 6,
   "metadata": {},
   "outputs": [
    {
     "data": {
      "image/png": "[encoded data removed]",
      "text/plain": [
       "<Figure size 720x576 with 1 Axes>"
      ]
     },
     "metadata": {
      "needs_background": "light"
     },
     "output_type": "display_data"
    }
   ],
   "source": [
    "copy_train = train.copy()\n",
    "copy_train['length of review'] = pd.cut(X_train.apply(lambda x: len(x)), \n",
    "                                        bins=[0, 50, 100, 200, float('inf')], \n",
    "                                        labels=['0-50', '50-100', '100-200', '200+'])\n",
    "fig = plt.figure(figsize=(10, 8))\n",
    "sns.countplot(data=copy_train, x='length of review', hue='label')\n",
    "plt.title(\"Распределение длин отзывов\")\n",
    "plt.xlabel(\"Длина отзыва\")\n",
    "plt.ylabel(\"Количество отзывов\");"
   ]
  },
  {
   "cell_type": "markdown",
   "metadata": {},
   "source": [
    "### 3. Поиск оптимального baseline"
   ]
  },
  {
   "cell_type": "markdown",
   "metadata": {},
   "source": [
    "Так как наша целевая переменная не сбалансирована, то добавим примерно половину (350) негативных отзывов и будем смотреть качество на кросвалидации всего на 2000 отзывов. Это сделано исходя из предположения, что излишний oversampling возможно будет ухудшать качество классификатора."
   ]
  },
  {
   "cell_type": "code",
   "execution_count": 7,
   "metadata": {},
   "outputs": [],
   "source": [
    "train_balanced = train.sort_values(by=['label']).iloc[:1800]\n",
    "train_balanced.reset_index(drop=True, inplace=True)\n",
    "train_balanced = shuffle(train_balanced.append(train_balanced.iloc[list(train_balanced.index[:350])]), random_state=10)"
   ]
  },
  {
   "cell_type": "code",
   "execution_count": 8,
   "metadata": {},
   "outputs": [
    {
     "data": {
      "text/plain": [
       "0    1076\n",
       "1    1074\n",
       "Name: label, dtype: int64"
      ]
     },
     "execution_count": 8,
     "metadata": {},
     "output_type": "execute_result"
    }
   ],
   "source": [
    "train_balanced['label'].value_counts()"
   ]
  },
  {
   "cell_type": "code",
   "execution_count": 9,
   "metadata": {},
   "outputs": [],
   "source": [
    "X = train_balanced['text']\n",
    "y = train_balanced['label']"
   ]
  },
  {
   "cell_type": "code",
   "execution_count": 10,
   "metadata": {},
   "outputs": [],
   "source": [
    "def text_classifier(vectorizer, classifier):\n",
    "    return Pipeline([('vectorizer', vectorizer), \n",
    "                     ('classifier', classifier)])"
   ]
  },
  {
   "cell_type": "markdown",
   "metadata": {},
   "source": [
    "Посмотрим на дефолтные результаты разных классификаторов вместе с CountVectorizer."
   ]
  },
  {
   "cell_type": "code",
   "execution_count": 11,
   "metadata": {},
   "outputs": [
    {
     "name": "stdout",
     "output_type": "stream",
     "text": [
      "LogisticRegression: 0.8065\n",
      "\n",
      "LinearSVC: 0.79395\n",
      "\n",
      "SGDClassifier: 0.79302\n",
      "\n",
      "MultinomialNB: 0.80185\n",
      "\n",
      "RandomForestClassifier: 0.77674\n",
      "\n",
      "GradientBoostingClassifier: 0.75535\n",
      "\n"
     ]
    }
   ],
   "source": [
    "warnings.filterwarnings('ignore')\n",
    "list_of_algos = [LogisticRegression, LinearSVC, SGDClassifier,\n",
    "                 MultinomialNB, RandomForestClassifier, GradientBoostingClassifier]\n",
    "list_of_algos_str = ['LogisticRegression', 'LinearSVC', 'SGDClassifier',\n",
    "                 'MultinomialNB', 'RandomForestClassifier', 'GradientBoostingClassifier']\n",
    "\n",
    "for clf, clf_str  in zip(list_of_algos, list_of_algos_str):\n",
    "    print(clf_str + ':', round(cross_val_score(text_classifier(CountVectorizer(), clf()), X, y).mean(), 5))\n",
    "    print()"
   ]
  },
  {
   "cell_type": "markdown",
   "metadata": {},
   "source": [
    "Теперь посмотрим на дефолтные результаты разных классификаторов вместе с TfidfVectorizer."
   ]
  },
  {
   "cell_type": "code",
   "execution_count": 12,
   "metadata": {},
   "outputs": [
    {
     "name": "stdout",
     "output_type": "stream",
     "text": [
      "LogisticRegression: 0.79627\n",
      "\n",
      "LinearSVC: 0.80836\n",
      "\n",
      "SGDClassifier: 0.79581\n",
      "\n",
      "MultinomialNB: 0.80325\n",
      "\n",
      "RandomForestClassifier: 0.77116\n",
      "\n",
      "GradientBoostingClassifier: 0.73721\n",
      "\n"
     ]
    }
   ],
   "source": [
    "warnings.filterwarnings('ignore')\n",
    "\n",
    "for clf, clf_str  in zip(list_of_algos, list_of_algos_str):\n",
    "    print(clf_str + ':', round(cross_val_score(text_classifier(TfidfVectorizer(), clf()), X, y).mean(), 5))\n",
    "    print()"
   ]
  },
  {
   "cell_type": "markdown",
   "metadata": {},
   "source": [
    "Видно, что GradientBoosting и RandomForest, показывают результаты хуже, чем другие алгоритмы. В лидерах оказались MultinomialNB + CountVectorizer и TfidfVectorizer, LogisticRegression + CountVectorizer и LinearSVC + TfidfVectorizer."
   ]
  },
  {
   "cell_type": "markdown",
   "metadata": {},
   "source": [
    "Посмотрим на результаты с разными ngram-ами."
   ]
  },
  {
   "cell_type": "code",
   "execution_count": 13,
   "metadata": {},
   "outputs": [
    {
     "name": "stdout",
     "output_type": "stream",
     "text": [
      "LogisticRegression + CountVect ngram_range (1, 1): 0.77338\n",
      "\n",
      "LogisticRegression + CountVect ngram_range (1, 2): 0.76938\n",
      "\n",
      "LogisticRegression + CountVect ngram_range (1, 3): 0.76338\n",
      "\n",
      "LogisticRegression + CountVect ngram_range (2, 2): 0.70385\n",
      "\n",
      "LogisticRegression + CountVect ngram_range (2, 3): 0.69335\n",
      "\n",
      "LogisticRegression + CountVect ngram_range (3, 3): 0.64482\n",
      "\n",
      "LinearSVC + CountVect ngram_range (1, 1): 0.75087\n",
      "\n",
      "LinearSVC + CountVect ngram_range (1, 2): 0.75937\n",
      "\n",
      "LinearSVC + CountVect ngram_range (1, 3): 0.75588\n",
      "\n",
      "LinearSVC + CountVect ngram_range (2, 2): 0.71636\n",
      "\n",
      "LinearSVC + CountVect ngram_range (2, 3): 0.69634\n",
      "\n",
      "LinearSVC + CountVect ngram_range (3, 3): 0.65383\n",
      "\n",
      "SGDClassifier + CountVect ngram_range (1, 1): 0.74086\n",
      "\n",
      "SGDClassifier + CountVect ngram_range (1, 2): 0.76388\n",
      "\n",
      "SGDClassifier + CountVect ngram_range (1, 3): 0.76238\n",
      "\n",
      "SGDClassifier + CountVect ngram_range (2, 2): 0.70687\n",
      "\n",
      "SGDClassifier + CountVect ngram_range (2, 3): 0.71536\n",
      "\n",
      "SGDClassifier + CountVect ngram_range (3, 3): 0.66733\n",
      "\n",
      "MultinomialNB + CountVect ngram_range (1, 1): 0.77938\n",
      "\n",
      "MultinomialNB + CountVect ngram_range (1, 2): 0.76388\n",
      "\n",
      "MultinomialNB + CountVect ngram_range (1, 3): 0.76138\n",
      "\n",
      "MultinomialNB + CountVect ngram_range (2, 2): 0.73637\n",
      "\n",
      "MultinomialNB + CountVect ngram_range (2, 3): 0.73636\n",
      "\n",
      "MultinomialNB + CountVect ngram_range (3, 3): 0.68383\n",
      "\n"
     ]
    }
   ],
   "source": [
    "warnings.filterwarnings('ignore')\n",
    "\n",
    "ngram_ranges = [(1,1), (1,2), (1,3), (2,2), (2,3), (3,3)]\n",
    "\n",
    "for clf, clf_str  in zip(list_of_algos[:4], list_of_algos_str[:4]):\n",
    "    for j in ngram_ranges:\n",
    "        print(clf_str + ' + CountVect' ' ngram_range ' + str(j) +':', round(cross_val_score(text_classifier(CountVectorizer(ngram_range=j), clf()), X_train, y_train).mean(), 5))\n",
    "        print()"
   ]
  },
  {
   "cell_type": "code",
   "execution_count": 14,
   "metadata": {},
   "outputs": [
    {
     "name": "stdout",
     "output_type": "stream",
     "text": [
      "LogisticRegression + TF-IDF ngram_range (1, 1): 0.75787\n",
      "\n",
      "LogisticRegression + TF-IDF ngram_range (1, 2): 0.72986\n",
      "\n",
      "LogisticRegression + TF-IDF ngram_range (1, 3): 0.71186\n",
      "\n",
      "LogisticRegression + TF-IDF ngram_range (2, 2): 0.66383\n",
      "\n",
      "LogisticRegression + TF-IDF ngram_range (2, 3): 0.65183\n",
      "\n",
      "LogisticRegression + TF-IDF ngram_range (3, 3): 0.63882\n",
      "\n",
      "LinearSVC + TF-IDF ngram_range (1, 1): 0.76788\n",
      "\n",
      "LinearSVC + TF-IDF ngram_range (1, 2): 0.77988\n",
      "\n",
      "LinearSVC + TF-IDF ngram_range (1, 3): 0.78338\n",
      "\n",
      "LinearSVC + TF-IDF ngram_range (2, 2): 0.73887\n",
      "\n",
      "LinearSVC + TF-IDF ngram_range (2, 3): 0.72387\n",
      "\n",
      "LinearSVC + TF-IDF ngram_range (3, 3): 0.67684\n",
      "\n",
      "SGDClassifier + TF-IDF ngram_range (1, 1): 0.75136\n",
      "\n",
      "SGDClassifier + TF-IDF ngram_range (1, 2): 0.77839\n",
      "\n",
      "SGDClassifier + TF-IDF ngram_range (1, 3): 0.78538\n",
      "\n",
      "SGDClassifier + TF-IDF ngram_range (2, 2): 0.73437\n",
      "\n",
      "SGDClassifier + TF-IDF ngram_range (2, 3): 0.74037\n",
      "\n",
      "SGDClassifier + TF-IDF ngram_range (3, 3): 0.68233\n",
      "\n",
      "MultinomialNB + TF-IDF ngram_range (1, 1): 0.69935\n",
      "\n",
      "MultinomialNB + TF-IDF ngram_range (1, 2): 0.66783\n",
      "\n",
      "MultinomialNB + TF-IDF ngram_range (1, 3): 0.65683\n",
      "\n",
      "MultinomialNB + TF-IDF ngram_range (2, 2): 0.66883\n",
      "\n",
      "MultinomialNB + TF-IDF ngram_range (2, 3): 0.65783\n",
      "\n",
      "MultinomialNB + TF-IDF ngram_range (3, 3): 0.64482\n",
      "\n"
     ]
    }
   ],
   "source": [
    "warnings.filterwarnings('ignore')\n",
    "\n",
    "for clf, clf_str  in zip(list_of_algos[:4], list_of_algos_str[:4]):\n",
    "    for j in ngram_ranges:\n",
    "        print(clf_str + ' + TF-IDF' ' ngram_range ' + str(j) +':', round(cross_val_score(text_classifier(TfidfVectorizer(ngram_range=j), clf()), X_train, y_train).mean(), 5))\n",
    "        print()"
   ]
  },
  {
   "cell_type": "markdown",
   "metadata": {},
   "source": [
    "Подыщем теперь лучшие параметры для нашего классификатора на всей выборке с помощью GridSearchCV."
   ]
  },
  {
   "cell_type": "code",
   "execution_count": 15,
   "metadata": {},
   "outputs": [
    {
     "data": {
      "text/plain": [
       "LogisticRegression(C=61, class_weight={0: 0.6368, 1: 0.3632}, dual=True,\n",
       "                   fit_intercept=True, intercept_scaling=1, l1_ratio=None,\n",
       "                   max_iter=100, multi_class='warn', n_jobs=None, penalty='l2',\n",
       "                   random_state=None, solver='warn', tol=0.0001, verbose=0,\n",
       "                   warm_start=False)"
      ]
     },
     "execution_count": 15,
     "metadata": {},
     "output_type": "execute_result"
    }
   ],
   "source": [
    "warnings.filterwarnings(\"ignore\")\n",
    "\n",
    "estimator = LogisticRegression(class_weight = {0:round(percent_of_pos_review, 4),\n",
    "                                               1:round(percent_of_neg_review, 4)})\n",
    "\n",
    "parameters = {'dual': [True, False], 'C': np.arange(1, 500, 10)}\n",
    "vectorizer =  TfidfVectorizer(ngram_range=(1,2))\n",
    "X_vect = vectorizer.fit_transform(X_train)\n",
    "clf = GridSearchCV(estimator, parameters)\n",
    "clf.fit(X_vect, y_train)\n",
    "clf.best_estimator_"
   ]
  },
  {
   "cell_type": "markdown",
   "metadata": {},
   "source": [
    "Найдем более точное значение."
   ]
  },
  {
   "cell_type": "code",
   "execution_count": 16,
   "metadata": {},
   "outputs": [
    {
     "data": {
      "text/plain": [
       "LogisticRegression(C=55, class_weight={0: 0.6368, 1: 0.3632}, dual=True,\n",
       "                   fit_intercept=True, intercept_scaling=1, l1_ratio=None,\n",
       "                   max_iter=100, multi_class='warn', n_jobs=None, penalty='l2',\n",
       "                   random_state=None, solver='warn', tol=0.0001, verbose=0,\n",
       "                   warm_start=False)"
      ]
     },
     "execution_count": 16,
     "metadata": {},
     "output_type": "execute_result"
    }
   ],
   "source": [
    "warnings.filterwarnings(\"ignore\")\n",
    "estimator = LogisticRegression(class_weight = {0:round(percent_of_pos_review, 4),\n",
    "                                               1:round(percent_of_neg_review, 4)}, dual=True)\n",
    "\n",
    "\n",
    "parameters = {'C': np.arange(40, 70, 1)}\n",
    "clf = GridSearchCV(estimator, parameters)\n",
    "clf.fit(X_vect, y_train)\n",
    "clf.best_estimator_"
   ]
  },
  {
   "cell_type": "markdown",
   "metadata": {},
   "source": [
    "#### Сабмит решения."
   ]
  },
  {
   "cell_type": "code",
   "execution_count": 17,
   "metadata": {},
   "outputs": [],
   "source": [
    "clf_ = LogisticRegression(class_weight={0:0.636, 1:0.364}, C=55, dual=True)\n",
    "#clf_ = LinearSVC(class_weight = {0:0.636, 1:0.364})\n",
    "\n",
    "\n",
    "clf_.fit(X_vect, y_train)\n",
    "X_test_vect = vectorizer.transform(X_test)\n",
    "predict_vector = clf_.predict(X_test_vect)\n",
    "data_predict = pd.DataFrame({'Id': list(range(0, len(predict_vector))),'y': predict_vector})\n",
    "data_predict.to_csv(r'santiment.csv', index = None, header=True)\n",
    "export_csv = data_predict.to_csv(r'santiment.csv', index = None, header=True) "
   ]
  },
  {
   "cell_type": "markdown",
   "metadata": {},
   "source": [
    "#### Сохранение классификатора и векторайзера."
   ]
  },
  {
   "cell_type": "code",
   "execution_count": 18,
   "metadata": {},
   "outputs": [],
   "source": [
    "import pickle\n",
    "\n",
    "with open('./TextSentiment.pkl', 'wb') as handle:\n",
    "    pickle.dump(clf_, handle)\n",
    "with open('./Vectorizer.pkl', 'wb') as handle:\n",
    "    pickle.dump(vectorizer, handle)"
   ]
  },
  {
   "cell_type": "markdown",
   "metadata": {},
   "source": [
    "### 4. Возможные улучшения\n",
    "\n",
    "Как вариант можно посмотреть на списки самых популярных (с наибольшим весом) позитивных и негативных слов и сотавить из них стоп лист."
   ]
  },
  {
   "cell_type": "code",
   "execution_count": 19,
   "metadata": {},
   "outputs": [],
   "source": [
    "vect_val = list(vectorizer.vocabulary_.values())\n",
    "vect_key = list(vectorizer.vocabulary_.keys())\n",
    "\n",
    "vect_vocab_reverse = {val:key  for val, key in zip (vect_val, vect_key)}\n",
    "\n",
    "coef_lr_list = clf_.coef_[0,:]\n",
    "\n",
    "top_pos = []\n",
    "top_neg = []\n",
    "\n",
    "for i in range(15):\n",
    "    top_pos.append(np.argmax(coef_lr_list))\n",
    "    top_neg.append(np.argmin(coef_lr_list))\n",
    "    coef_lr_list = np.delete(coef_lr_list, np.argmax(coef_lr_list))\n",
    "    coef_lr_list = np.delete(coef_lr_list, np.argmin(coef_lr_list))\n",
    "\n",
    "top_pos = [vect_vocab_reverse[i] for i in top_pos]\n",
    "top_neg = [vect_vocab_reverse[i] for i in top_neg]"
   ]
  },
  {
   "cell_type": "code",
   "execution_count": 20,
   "metadata": {},
   "outputs": [
    {
     "data": {
      "text/plain": [
       "['great',\n",
       " 'and',\n",
       " 'gonna go',\n",
       " 'easily worked',\n",
       " 'loud that',\n",
       " 'excelent',\n",
       " 'previous',\n",
       " 'you value',\n",
       " 'feature so',\n",
       " 'weeks this',\n",
       " 'usb and',\n",
       " 'convinced',\n",
       " 'hang of',\n",
       " 'the plastic',\n",
       " 'people using']"
      ]
     },
     "execution_count": 20,
     "metadata": {},
     "output_type": "execute_result"
    }
   ],
   "source": [
    "top_pos"
   ]
  },
  {
   "cell_type": "code",
   "execution_count": 21,
   "metadata": {},
   "outputs": [
    {
     "data": {
      "text/plain": [
       "['only',\n",
       " 'nose for',\n",
       " 'worthwile at',\n",
       " 'after',\n",
       " 'normalization',\n",
       " 'these other',\n",
       " 'understand and',\n",
       " 'annoy',\n",
       " 'used this',\n",
       " 'button suprisingly',\n",
       " 'does load',\n",
       " 'business you',\n",
       " 'pro',\n",
       " 'is minimum',\n",
       " 'someone asked']"
      ]
     },
     "execution_count": 21,
     "metadata": {},
     "output_type": "execute_result"
    }
   ],
   "source": [
    "top_neg"
   ]
  },
  {
   "cell_type": "code",
   "execution_count": 22,
   "metadata": {},
   "outputs": [],
   "source": [
    "my_stop_list = ['only', 'after', 'and', 'button', 'this']"
   ]
  },
  {
   "cell_type": "code",
   "execution_count": 23,
   "metadata": {},
   "outputs": [],
   "source": [
    "clf_regression = LogisticRegression(class_weight = {0:round(percent_of_pos_review, 4),\n",
    "                                                   1:round(percent_of_neg_review, 4)}, C=55, dual=True)\n",
    "\n",
    "vectorizer =  TfidfVectorizer(ngram_range=(1,2), stop_words=my_stop_list)\n",
    "X_vect = vectorizer.fit_transform(X_train)\n",
    "clf_regression.fit(X_vect, y_train)\n",
    "X_test = vectorizer.transform(X_test)\n",
    "predict_vector = clf_regression.predict(X_test)\n",
    "data_predict = pd.DataFrame({'Id': list(range(0, len(predict_vector))),'y': predict_vector})\n",
    "data_predict.to_csv(r'santiment_stop_list.csv', index = None, header=True)\n",
    "export_csv = data_predict.to_csv(r'santiment_stop_list.csv', index = None, header=True)"
   ]
  },
  {
   "cell_type": "markdown",
   "metadata": {},
   "source": [
    "Однако данный подход не улучшает качество на тестовой выборке."
   ]
  }
 ],
 "metadata": {
  "kernelspec": {
   "display_name": "Python 3",
   "language": "python",
   "name": "python3"
  },
  "language_info": {
   "codemirror_mode": {
    "name": "ipython",
    "version": 3
   },
   "file_extension": ".py",
   "mimetype": "text/x-python",
   "name": "python",
   "nbconvert_exporter": "python",
   "pygments_lexer": "ipython3",
   "version": "3.7.3"
  }
 },
 "nbformat": 4,
 "nbformat_minor": 4
}
